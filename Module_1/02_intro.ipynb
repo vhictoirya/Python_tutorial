{
 "cells": [
  {
   "cell_type": "markdown",
   "id": "be984821",
   "metadata": {},
   "source": [
    "# Data Structure in Python\n",
    "## What is a Data Structure in Python?\n",
    "A data structure is a way to organize, store, and access data efficiently so it can be used effectively. In Python, data structures are built-in types that allow you to group and manipulate data in different formats depending on your need.\n",
    "\n",
    "### Why Are Data Structures Important?\n",
    "✅ Help you manage and organize data better.\n",
    "\n",
    "✅ Make data retrieval, updating, and manipulation easier.\n",
    "\n",
    "✅ Essential for solving real-world problems efficiently.\n",
    "\n",
    "✅ Common in blockchain analytics (e.g., wallet records, transaction logs)\n",
    "\n",
    "## Common Built-in Data Structures in Python\n",
    "Data Structure Description Example\n",
    "\n",
    "String: A sequence of characters 'Bitcoin', when you see any character in '' (quotation) you know it is a string\n",
    "\n",
    "List Ordered: mutable sequence [1, 2, 3], ordered, they are not scattered, they start and end with the square [] bracket\n",
    "\n",
    "Tuple Ordered: immutable sequence (4, 5, 6), oredered, not mutable, they start and end with the parenthesis () bracket\n",
    "\n",
    "Set: Unordered collection of unique items {1, 2, 3}, unordered, unique item, they start and end with the curly {} bracket\n",
    "\n",
    "Dictionary: Key-value pairs {\"name\": \"Alice\", \"wallet\": \"0xABC\"}\n",
    "\n",
    "### Where Do You See Data Structures in Blockchain?\n",
    "Blockchain Element Python Structure\n",
    "\n",
    "Wallet → tokens: stored in either Dictionary or List\n",
    "\n",
    "Transaction log: are List of dictionaries\n",
    "\n",
    "Token prices (ETH → USD): are stored in Dictionary\n",
    "\n",
    "Address metadata: Nested dictionary\n",
    "\n",
    "Smart contract parameters: Tuple or Dict"
   ]
  },
  {
   "cell_type": "markdown",
   "id": "2e0044c6",
   "metadata": {},
   "source": [
    "## 1. STRING (str)\n",
    "✅ Definition:\n",
    "A String is an ordered sequence of characters enclosed in single, double, or triple quotes."
   ]
  },
  {
   "cell_type": "code",
   "execution_count": 6,
   "id": "bc3aff81",
   "metadata": {},
   "outputs": [],
   "source": [
    "name = ' blockchain'"
   ]
  },
  {
   "cell_type": "markdown",
   "id": "7cc9af52",
   "metadata": {},
   "source": [
    "### Common Methods and Functions in String\n",
    "len()\n",
    "\n",
    ".lower()\n",
    "\n",
    ".upper()\n",
    "\n",
    ".strip() \n",
    "\n",
    ".replace (old, new) \n",
    "\n",
    ".split()\n",
    "\n",
    "in"
   ]
  },
  {
   "cell_type": "code",
   "execution_count": 8,
   "id": "749ae424",
   "metadata": {},
   "outputs": [
    {
     "data": {
      "text/plain": [
       "10"
      ]
     },
     "execution_count": 8,
     "metadata": {},
     "output_type": "execute_result"
    }
   ],
   "source": [
    "# len() --> Helps us fetch the length of  string, i.e. number of characters in a string\n",
    "# len is a FUNCTION it takes in parameters\n",
    "name = 'blockchain'\n",
    "len(name)"
   ]
  },
  {
   "cell_type": "code",
   "execution_count": 9,
   "id": "f6ea99fa",
   "metadata": {},
   "outputs": [
    {
     "data": {
      "text/plain": [
       "'blockchain'"
      ]
     },
     "execution_count": 9,
     "metadata": {},
     "output_type": "execute_result"
    }
   ],
   "source": [
    "# .lower() --> Converts any uppercase to lowercase\n",
    "# remember Python is case-sensitive esp when you extracted a data with inconsistency\n",
    "# .lower is not a function, it doesn't take in parameter, it attaches name to lower\n",
    "# this makes .lower a METHOD\n",
    "name = 'BlocKchaiN'\n",
    "name.lower()"
   ]
  },
  {
   "cell_type": "code",
   "execution_count": 10,
   "id": "ede89bc8",
   "metadata": {},
   "outputs": [
    {
     "data": {
      "text/plain": [
       "'BLOCKCHAIN'"
      ]
     },
     "execution_count": 10,
     "metadata": {},
     "output_type": "execute_result"
    }
   ],
   "source": [
    "# .upper() --> Converts any lowercase to uppercase \n",
    "name = 'BlocKchaiN'\n",
    "name.upper()"
   ]
  },
  {
   "cell_type": "code",
   "execution_count": null,
   "id": "c35a4898",
   "metadata": {},
   "outputs": [
    {
     "data": {
      "text/plain": [
       "'Blockchain'"
      ]
     },
     "execution_count": 12,
     "metadata": {},
     "output_type": "execute_result"
    }
   ],
   "source": [
    "# .strip() --> removes spaces \n",
    "name = ' Blockchain '\n",
    "name.strip()"
   ]
  },
  {
   "cell_type": "code",
   "execution_count": 36,
   "id": "0f6bdaa0",
   "metadata": {},
   "outputs": [
    {
     "data": {
      "text/plain": [
       "'Crypto'"
      ]
     },
     "execution_count": 36,
     "metadata": {},
     "output_type": "execute_result"
    }
   ],
   "source": [
    "# .replace (old, new) --> replaces a sub-string\n",
    "x = 'Blockchain'\n",
    "x.replace('Blockchain', 'Crypto')\n",
    "x = x.replace('Blockchain', 'Crypto')\n",
    "x"
   ]
  },
  {
   "cell_type": "code",
   "execution_count": null,
   "id": "71763012",
   "metadata": {},
   "outputs": [
    {
     "data": {
      "text/plain": [
       "['Blockchain', ' Crypto', ' Asset', ' Price']"
      ]
     },
     "execution_count": 41,
     "metadata": {},
     "output_type": "execute_result"
    }
   ],
   "source": [
    "# .split() --> split string into list\n",
    "y = 'Blockchain, Crypto, Asset, Price'\n",
    "y.split(',')\n",
    "y = y.split(',')\n",
    "y\n",
    "# type(y) --> to check the data type"
   ]
  },
  {
   "cell_type": "code",
   "execution_count": null,
   "id": "9399b609",
   "metadata": {},
   "outputs": [
    {
     "data": {
      "text/plain": [
       "True"
      ]
     },
     "execution_count": 38,
     "metadata": {},
     "output_type": "execute_result"
    }
   ],
   "source": [
    "# in --> checks for sub-strings \n",
    "# in is a keyword\n",
    "# (in a case where by you don't know what the prefix is in this string, however, you know it ended with asset)\n",
    "y = 'CryptoAsset'\n",
    "'Asset' in y # returns True if Asset is in y, else False (comes back as a boolean)"
   ]
  },
  {
   "cell_type": "markdown",
   "id": "7f4419ac",
   "metadata": {},
   "source": [
    "## 2. LIST (list)\n",
    "✅ Definition:\n",
    "A List is an ordered, mutable, indexable collection of elements."
   ]
  },
  {
   "cell_type": "code",
   "execution_count": 48,
   "id": "978fd40d",
   "metadata": {},
   "outputs": [
    {
     "name": "stdout",
     "output_type": "stream",
     "text": [
      "<class 'list'>\n"
     ]
    }
   ],
   "source": [
    "tokens = ['ETH', 'BTC', 'SOL', 'ADA']\n",
    "# print(tokens)\n",
    "print(type(tokens)) #--> to check the data type"
   ]
  },
  {
   "cell_type": "markdown",
   "id": "21c7c5a6",
   "metadata": {},
   "source": [
    "### Common Method of a List\n",
    "len() \n",
    "\n",
    ".append(x) \n",
    "\n",
    ".insert(i, x) \n",
    "\n",
    ".remove(x) \n",
    "\n",
    ".pop(i) \n",
    "\n",
    ".sort() \n",
    "\n",
    ".reverse() "
   ]
  },
  {
   "cell_type": "code",
   "execution_count": null,
   "id": "d2003a5f",
   "metadata": {},
   "outputs": [
    {
     "data": {
      "text/plain": [
       "4"
      ]
     },
     "execution_count": 67,
     "metadata": {},
     "output_type": "execute_result"
    }
   ],
   "source": [
    "# len() -> Length of List  \n",
    "tokens = ['ETH', 'BTC', 'SOL', 'ADA']\n",
    "len(tokens) # returns the numbers of element in the list"
   ]
  },
  {
   "cell_type": "code",
   "execution_count": 68,
   "id": "a7acdd77",
   "metadata": {},
   "outputs": [
    {
     "data": {
      "text/plain": [
       "['ETH', 'BTC', 'SOL', 'ADA', 'TIA']"
      ]
     },
     "execution_count": 68,
     "metadata": {},
     "output_type": "execute_result"
    }
   ],
   "source": [
    "# .append(x) -> takes in an argument, add to the End of a List\n",
    "tokens.append('TIA')\n",
    "tokens"
   ]
  },
  {
   "cell_type": "code",
   "execution_count": 69,
   "id": "69081ccc",
   "metadata": {},
   "outputs": [
    {
     "data": {
      "text/plain": [
       "['ETH', 'BTC', 'SOL', 'ADA', 'DOT', 'TIA']"
      ]
     },
     "execution_count": 69,
     "metadata": {},
     "output_type": "execute_result"
    }
   ],
   "source": [
    "# .insert(i, x) -> Adds to an index, in Python index starts from 0, so ETH is on index 0\n",
    "tokens.insert(4, 'DOT')\n",
    "tokens"
   ]
  },
  {
   "cell_type": "code",
   "execution_count": null,
   "id": "0c6c8a1e",
   "metadata": {},
   "outputs": [
    {
     "data": {
      "text/plain": [
       "['ETH', 'BTC', 'SOL', 'ADA', 'DOT', 'TIA']"
      ]
     },
     "execution_count": 72,
     "metadata": {},
     "output_type": "execute_result"
    }
   ],
   "source": [
    "# .remove(x) -> Removes the first match (reomves a token) -- takes in value\n",
    "tokens = ['ETH', 'BTC', 'DOT', 'SOL', 'ADA', 'DOT', 'TIA']\n",
    "tokens.remove('DOT')\n",
    "tokens "
   ]
  },
  {
   "cell_type": "code",
   "execution_count": null,
   "id": "6366a3df",
   "metadata": {},
   "outputs": [
    {
     "data": {
      "text/plain": [
       "['ETH', 'BTC', 'SOL', 'ADA', 'DOT']"
      ]
     },
     "execution_count": 73,
     "metadata": {},
     "output_type": "execute_result"
    }
   ],
   "source": [
    "# .pop(i) --> Removes and Return --- takes in index \n",
    "tokens.pop(5)\n",
    "tokens"
   ]
  },
  {
   "cell_type": "code",
   "execution_count": null,
   "id": "c579d00c",
   "metadata": {},
   "outputs": [
    {
     "data": {
      "text/plain": [
       "['ADA', 'BTC', 'DOT', 'ETH', 'SOL']"
      ]
     },
     "execution_count": 74,
     "metadata": {},
     "output_type": "execute_result"
    }
   ],
   "source": [
    "# .sort() --> Sort list -- brings the list in ascending order, it does not take in parameter\n",
    "\n",
    "tokens.sort()\n",
    "tokens"
   ]
  },
  {
   "cell_type": "code",
   "execution_count": null,
   "id": "a97e2c88",
   "metadata": {},
   "outputs": [
    {
     "data": {
      "text/plain": [
       "['SOL', 'ETH', 'DOT', 'BTC', 'ADA']"
      ]
     },
     "execution_count": 75,
     "metadata": {},
     "output_type": "execute_result"
    }
   ],
   "source": [
    "# .reverse() --> Reverse List -- brings the list in descending order, it does not take in parameter\n",
    "\n",
    "tokens.reverse()\n",
    "tokens"
   ]
  },
  {
   "cell_type": "markdown",
   "id": "03a852c2",
   "metadata": {},
   "source": [
    "### Indexing and Slicing\n",
    "This is only possible in a list"
   ]
  },
  {
   "cell_type": "code",
   "execution_count": 76,
   "id": "c6aa8019",
   "metadata": {},
   "outputs": [
    {
     "data": {
      "text/plain": [
       "'SOL'"
      ]
     },
     "execution_count": 76,
     "metadata": {},
     "output_type": "execute_result"
    }
   ],
   "source": [
    "z = ['ETH', 'BTC', 'SOL', 'ADA', 'TIA']\n",
    "z[2]"
   ]
  },
  {
   "cell_type": "code",
   "execution_count": 84,
   "id": "21a029c0",
   "metadata": {},
   "outputs": [
    {
     "data": {
      "text/plain": [
       "['BTC']"
      ]
     },
     "execution_count": 84,
     "metadata": {},
     "output_type": "execute_result"
    }
   ],
   "source": [
    "z = ['ETH', 'BTC', 'SOL', 'ADA', 'TIA'] # you can only index in the order of the list\n",
    "z[1::4]"
   ]
  },
  {
   "cell_type": "code",
   "execution_count": null,
   "id": "e06378b1",
   "metadata": {},
   "outputs": [
    {
     "data": {
      "text/plain": [
       "('BTC', 'TIA')"
      ]
     },
     "execution_count": 79,
     "metadata": {},
     "output_type": "execute_result"
    }
   ],
   "source": [
    "z = ['ETH', 'BTC', 'SOL', 'ADA', 'TIA'] # you can only index in the order of the list\n",
    "r = z[1],z[4]\n",
    "#z[1::4]\n",
    "r"
   ]
  },
  {
   "cell_type": "markdown",
   "id": "617a06f6",
   "metadata": {},
   "source": [
    "## 3 DICTIONARY (dict)\n",
    "✅ Definition:\n",
    "A Dictionary is an unordered, mutable collection of key-value pairs."
   ]
  },
  {
   "cell_type": "code",
   "execution_count": 86,
   "id": "9471cfec",
   "metadata": {},
   "outputs": [
    {
     "data": {
      "text/plain": [
       "{'address': '0xA1B2', 'balance': 4.5, 'is_active': True}"
      ]
     },
     "execution_count": 86,
     "metadata": {},
     "output_type": "execute_result"
    }
   ],
   "source": [
    "# key:value\n",
    "wallet = {\n",
    "    'address':'0xA1B2',\n",
    "    'balance': 4.5,\n",
    "    'is_active':True\n",
    "}\n",
    "\n",
    "wallet"
   ]
  },
  {
   "cell_type": "markdown",
   "id": "7488630d",
   "metadata": {},
   "source": [
    "### Common Methods in Dictionary\n",
    "dict[key] \n",
    "\n",
    ".get(key) \n",
    "\n",
    ".keys()\n",
    "\n",
    ".values() \n",
    "\n",
    ".items()\n",
    "\n",
    ".update({}) \n",
    "\n",
    ".pop(key)"
   ]
  },
  {
   "cell_type": "code",
   "execution_count": null,
   "id": "73235922",
   "metadata": {},
   "outputs": [
    {
     "data": {
      "text/plain": [
       "4.5"
      ]
     },
     "execution_count": 90,
     "metadata": {},
     "output_type": "execute_result"
    }
   ],
   "source": [
    "# dict[key] --> Get value by key \n",
    "wallet['balance']"
   ]
  },
  {
   "cell_type": "code",
   "execution_count": 92,
   "id": "86758298",
   "metadata": {},
   "outputs": [
    {
     "data": {
      "text/plain": [
       "True"
      ]
     },
     "execution_count": 92,
     "metadata": {},
     "output_type": "execute_result"
    }
   ],
   "source": [
    "# .get(key) --> Safe Access\n",
    "wallet.get(\"is_active\")"
   ]
  },
  {
   "cell_type": "code",
   "execution_count": 93,
   "id": "950bc403",
   "metadata": {},
   "outputs": [
    {
     "data": {
      "text/plain": [
       "dict_keys(['address', 'balance', 'is_active'])"
      ]
     },
     "execution_count": 93,
     "metadata": {},
     "output_type": "execute_result"
    }
   ],
   "source": [
    "# .keys() --> All keys\n",
    "wallet.keys()"
   ]
  },
  {
   "cell_type": "code",
   "execution_count": 94,
   "id": "092ef766",
   "metadata": {},
   "outputs": [
    {
     "data": {
      "text/plain": [
       "dict_values(['0xA1B2', 4.5, True])"
      ]
     },
     "execution_count": 94,
     "metadata": {},
     "output_type": "execute_result"
    }
   ],
   "source": [
    "# .values() --> All values\n",
    "wallet.values()"
   ]
  },
  {
   "cell_type": "code",
   "execution_count": 95,
   "id": "01beaeda",
   "metadata": {},
   "outputs": [
    {
     "data": {
      "text/plain": [
       "dict_items([('address', '0xA1B2'), ('balance', 4.5), ('is_active', True)])"
      ]
     },
     "execution_count": 95,
     "metadata": {},
     "output_type": "execute_result"
    }
   ],
   "source": [
    "# .items() --> Key-Value Pairs\n",
    "wallet.items()"
   ]
  },
  {
   "cell_type": "code",
   "execution_count": 96,
   "id": "95930797",
   "metadata": {},
   "outputs": [
    {
     "data": {
      "text/plain": [
       "{'address': '0xA1B2', 'balance': 500, 'is_active': True}"
      ]
     },
     "execution_count": 96,
     "metadata": {},
     "output_type": "execute_result"
    }
   ],
   "source": [
    "# .update({}) --> updates the Dictionary, i.e. adds a new key-value pair or changes the value of an existing key\n",
    "wallet.update({'balance': 500})\n",
    "wallet"
   ]
  },
  {
   "cell_type": "code",
   "execution_count": null,
   "id": "13c52365",
   "metadata": {},
   "outputs": [
    {
     "data": {
      "text/plain": [
       "{'address': '0xA1B2', 'balance': 500, 'is_active': False}"
      ]
     },
     "execution_count": 97,
     "metadata": {},
     "output_type": "execute_result"
    }
   ],
   "source": [
    "wallet.update({'is_active': False}) \n",
    "wallet"
   ]
  },
  {
   "cell_type": "code",
   "execution_count": 98,
   "id": "c437ea32",
   "metadata": {},
   "outputs": [
    {
     "data": {
      "text/plain": [
       "{'address': '0xA1B2', 'balance': 500}"
      ]
     },
     "execution_count": 98,
     "metadata": {},
     "output_type": "execute_result"
    }
   ],
   "source": [
    "# .pop(key) --> Remove by Key\n",
    "wallet.pop(\"is_active\")\n",
    "wallet"
   ]
  }
 ],
 "metadata": {
  "kernelspec": {
   "display_name": "pythonB",
   "language": "python",
   "name": "python3"
  },
  "language_info": {
   "codemirror_mode": {
    "name": "ipython",
    "version": 3
   },
   "file_extension": ".py",
   "mimetype": "text/x-python",
   "name": "python",
   "nbconvert_exporter": "python",
   "pygments_lexer": "ipython3",
   "version": "3.13.5"
  }
 },
 "nbformat": 4,
 "nbformat_minor": 5
}
