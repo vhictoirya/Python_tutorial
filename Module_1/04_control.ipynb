{
 "cells": [
  {
   "cell_type": "markdown",
   "id": "77153b11",
   "metadata": {},
   "source": [
    "# Python Control Structures: Loops and Conditionals\n",
    "Control structures helps you control the flow of your program. They allow your code to make decisions or repeat actions."
   ]
  },
  {
   "cell_type": "markdown",
   "id": "b7ac999d",
   "metadata": {},
   "source": [
    "## Conditional Statement\n",
    "A conditional statement controls whether a block of code runs based on whether a condition is true or false (if it is true do this, if it is false do that) --> so our code is conditioned to follow certain patterns.\n",
    "\n",
    "### Types:\n",
    "if: checks a condition, runs code if the condition is true (only runs when the condition is true)\n",
    "\n",
    "elif: checks additional conditions if the previous if is false (short for 'else if' checks if thr first was false)\n",
    "\n",
    "else: runs code if no conditions are true (runs the condition if every other condition is false)\n",
    "\n",
    "Purpose: makes decision in code by choosing which path to follow\n",
    "\n",
    "### Conditional Statement (if, elif, else)\n"
   ]
  },
  {
   "cell_type": "markdown",
   "id": "4395c9d6",
   "metadata": {},
   "source": [
    "## 1. if statement"
   ]
  },
  {
   "cell_type": "code",
   "execution_count": 1,
   "id": "4c7d21dd",
   "metadata": {},
   "outputs": [
    {
     "data": {
      "text/plain": [
       "int"
      ]
     },
     "execution_count": 1,
     "metadata": {},
     "output_type": "execute_result"
    }
   ],
   "source": [
    "x = 10\n",
    "type(x)"
   ]
  },
  {
   "cell_type": "code",
   "execution_count": 2,
   "id": "a42dd30c",
   "metadata": {},
   "outputs": [
    {
     "name": "stdout",
     "output_type": "stream",
     "text": [
      "x is greater 5\n"
     ]
    }
   ],
   "source": [
    "if x > 5: \n",
    "    print('x is greater 5')"
   ]
  },
  {
   "cell_type": "code",
   "execution_count": 4,
   "id": "524613d6",
   "metadata": {},
   "outputs": [
    {
     "name": "stdout",
     "output_type": "stream",
     "text": [
      "x is less than 20\n"
     ]
    }
   ],
   "source": [
    "if x < 20:\n",
    "    print('x is less than 20')"
   ]
  },
  {
   "cell_type": "markdown",
   "id": "4f1ff76c",
   "metadata": {},
   "source": [
    "### 2. if....else statement"
   ]
  },
  {
   "cell_type": "code",
   "execution_count": null,
   "id": "8cab85c1",
   "metadata": {},
   "outputs": [
    {
     "name": "stdout",
     "output_type": "stream",
     "text": [
      "x is 5 or less\n"
     ]
    }
   ],
   "source": [
    "x = 3\n",
    "\n",
    "if x > 5: # checks if x is true\n",
    "    print('x is greater than 5')\n",
    "else: # prints out the condition, since it is false\n",
    "    print('x is 5 or less')"
   ]
  },
  {
   "cell_type": "markdown",
   "id": "57f9cf93",
   "metadata": {},
   "source": [
    "### 3. if...elif...else statement\n",
    "Checks if the condition is true, if not it then goes into elif to check if others are true, else prints out if it false"
   ]
  },
  {
   "cell_type": "code",
   "execution_count": 5,
   "id": "2f7ddda6",
   "metadata": {},
   "outputs": [
    {
     "name": "stdout",
     "output_type": "stream",
     "text": [
      "x is greater than 5\n"
     ]
    }
   ],
   "source": [
    "x = 7\n",
    "\n",
    "if x < 5: # if x is true\n",
    "    print('x is less than 5')\n",
    "elif x == 5: # == checks if x is exactly 5\n",
    "    print('x is equal to 5')\n",
    "else:\n",
    "    print('x is greater than 5')"
   ]
  },
  {
   "cell_type": "code",
   "execution_count": null,
   "id": "f9e09e41",
   "metadata": {},
   "outputs": [
    {
     "name": "stdout",
     "output_type": "stream",
     "text": [
      "high balnace\n"
     ]
    }
   ],
   "source": [
    "# A wallet balance has $1500 worth of ETH. Check if the balance is greater than $1000,\n",
    "# And return information, if the balnace is 'high balance', 'medium balance' or  'low balance'\n",
    "wallet = 1500\n",
    "if wallet > 1000:\n",
    "    print('high balnace')\n",
    "elif wallet == 1000:\n",
    "    print('medium balance')\n",
    "else:\n",
    "    print('low balance')\n"
   ]
  },
  {
   "cell_type": "markdown",
   "id": "65b9e5f4",
   "metadata": {},
   "source": [
    "##  Logical Operators\n",
    "What they do: they combine or invert conditions\n",
    "\n",
    "### How they work\n",
    "and: both conditions must be true, that is it return true only if both conditions are true\n",
    "\n",
    "or: either conditions can be true, returns true if at least one condition is true\n",
    "\n",
    "not: flips the condition (true becomes false, and vice-versa), that is it reverses the condition\n",
    "\n",
    "|Expression         | Result|\n",
    "---------------     | ------|\n",
    "|'True and True'    | True  |\n",
    "|'True and False'   | False |\n",
    "|'False or True'    | True  |\n",
    "|'not True'         | False |\n",
    "|'not False'        | True  |"
   ]
  },
  {
   "cell_type": "markdown",
   "id": "33d7a83e",
   "metadata": {},
   "source": [
    "### 1. and operator"
   ]
  },
  {
   "cell_type": "code",
   "execution_count": 12,
   "id": "6f4deee2",
   "metadata": {},
   "outputs": [
    {
     "name": "stdout",
     "output_type": "stream",
     "text": [
      "High balance and verified\n"
     ]
    }
   ],
   "source": [
    "balance = 1500\n",
    "verified = True\n",
    "\n",
    "if balance > 1000 and verified:\n",
    "    print('High balance and verified')\n",
    "else:\n",
    "    print ('Low balance or not verified')"
   ]
  },
  {
   "cell_type": "code",
   "execution_count": 13,
   "id": "0d6074e0",
   "metadata": {},
   "outputs": [
    {
     "name": "stdout",
     "output_type": "stream",
     "text": [
      "Low balance and not verified\n"
     ]
    }
   ],
   "source": [
    "balance = 1500\n",
    "verified = False\n",
    "\n",
    "if balance < 1000 and verified:\n",
    "    print('High balance and verified')\n",
    "else:\n",
    "    print ('Low balance and not verified')"
   ]
  },
  {
   "cell_type": "markdown",
   "id": "e49d2280",
   "metadata": {},
   "source": [
    "### 2. or operator"
   ]
  },
  {
   "cell_type": "code",
   "execution_count": 14,
   "id": "dfad2f07",
   "metadata": {},
   "outputs": [
    {
     "name": "stdout",
     "output_type": "stream",
     "text": [
      "fails both checks\n"
     ]
    }
   ],
   "source": [
    "balance = 600\n",
    "verified = False\n",
    "\n",
    "if balance > 1000 or verified:\n",
    "    print('passes at least one check')\n",
    "else:\n",
    "    print('fails both checks')"
   ]
  },
  {
   "cell_type": "code",
   "execution_count": null,
   "id": "8541b06b",
   "metadata": {},
   "outputs": [
    {
     "name": "stdout",
     "output_type": "stream",
     "text": [
      "fails both checks\n"
     ]
    }
   ],
   "source": [
    "balance = 600\n",
    "verified = False # if only carries true condition, it will pass the check\n",
    "\n",
    "if balance > 1000 or verified:\n",
    "    print('passes at least one check')\n",
    "else:\n",
    "    print('fails both checks')"
   ]
  },
  {
   "cell_type": "code",
   "execution_count": 15,
   "id": "f4cc414c",
   "metadata": {},
   "outputs": [
    {
     "name": "stdout",
     "output_type": "stream",
     "text": [
      "passes at least one check\n"
     ]
    }
   ],
   "source": [
    "balance = 600\n",
    "verified = False # if only carries true condition, so this is out\n",
    "\n",
    "if balance > 100 or verified:\n",
    "    print('passes at least one check')\n",
    "else:\n",
    "    print('fails both checks')"
   ]
  },
  {
   "cell_type": "code",
   "execution_count": 18,
   "id": "a6921ad8",
   "metadata": {},
   "outputs": [
    {
     "name": "stdout",
     "output_type": "stream",
     "text": [
      "y is either less than 0 or greater than 200\n"
     ]
    }
   ],
   "source": [
    "y = 1000\n",
    "\n",
    "if y > 0 and y < 200:\n",
    "    print('y is between 0 and 200')\n",
    "elif y < 0 or y > 200:\n",
    "    print('y is either less than 0 or greater than 200')\n",
    "elif y < 0 and y > 200 or y == 0:\n",
    "    print('y is either less than 0, greater than 200, or equal to 0')\n",
    "else:\n",
    "    print('y is not in the specified range')"
   ]
  },
  {
   "cell_type": "markdown",
   "id": "d13f5e4b",
   "metadata": {},
   "source": [
    "### 3. not operator"
   ]
  },
  {
   "cell_type": "code",
   "execution_count": null,
   "id": "87ec75d8",
   "metadata": {},
   "outputs": [
    {
     "name": "stdout",
     "output_type": "stream",
     "text": [
      "wallet is clean\n"
     ]
    }
   ],
   "source": [
    "is_blacklisted = False \n",
    "\n",
    "if not is_blacklisted:\n",
    "    print('wallet is clean')"
   ]
  },
  {
   "cell_type": "markdown",
   "id": "6eeba48f",
   "metadata": {},
   "source": [
    "### Practice Exercises\n",
    "Check if a user is over 18 and verified to proceed\n",
    "\n",
    "Print 'access granted' if age > 18 or has parent's permission\n",
    "\n",
    "Use not to check if a wallet is not blacklisted\n"
   ]
  },
  {
   "cell_type": "code",
   "execution_count": 27,
   "id": "f344f661",
   "metadata": {},
   "outputs": [
    {
     "name": "stdout",
     "output_type": "stream",
     "text": [
      "proceed\n"
     ]
    }
   ],
   "source": [
    "age = 20\n",
    "verified = True\n",
    "has_parent_permission = False\n",
    "is_blacklisted = False\n",
    "\n",
    "if age > 18 and verified:\n",
    "    print('proceed')\n",
    "elif age < 18 or has_parent_permission:\n",
    "    print('grant access')\n",
    "elif not is_blacklisted:\n",
    "    print('wallet is not blacklisted')\n",
    "else:\n",
    "    print('access denied')\n",
    "\n"
   ]
  }
 ],
 "metadata": {
  "kernelspec": {
   "display_name": "pythonB",
   "language": "python",
   "name": "python3"
  },
  "language_info": {
   "codemirror_mode": {
    "name": "ipython",
    "version": 3
   },
   "file_extension": ".py",
   "mimetype": "text/x-python",
   "name": "python",
   "nbconvert_exporter": "python",
   "pygments_lexer": "ipython3",
   "version": "3.13.5"
  }
 },
 "nbformat": 4,
 "nbformat_minor": 5
}
