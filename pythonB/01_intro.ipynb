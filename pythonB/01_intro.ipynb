{
 "cells": [
  {
   "cell_type": "markdown",
   "id": "b49ea7d0",
   "metadata": {},
   "source": [
    "# Python Basic Syntax\n",
    "\n",
    "## What is Syntax?\n",
    "\n",
    "The set of rules that defines how Python code should be written. Think of it like grammar in a language - if you don't follow it, Python won't understand you\n",
    "\n",
    "### Key Rules to know:\n",
    "Comments (#) - commments are like sticky notes in your code. They start with the # symbol and are ignored by python, so they are just for you or others to understand what the code does\n",
    "Indentation (spaces/tabs) - pyhton uses them to group code (like paragraphs in a book)\n",
    "Code blocks - sections of code that belong together (e.g. inside loops or functions)\n",
    "Keywords - special word python reserves (e.g. if, for, while). Don't use these as variable names\n",
    "\n",
    "### Input/ Output\n",
    "print ('Hello') -> Displays text on screen\n",
    "input('what's your name?) -> asks the user to type something"
   ]
  },
  {
   "cell_type": "markdown",
   "id": "db976f41",
   "metadata": {},
   "source": [
    "Comment - helps keeps you in the know"
   ]
  },
  {
   "cell_type": "code",
   "execution_count": 1,
   "id": "7f406c92",
   "metadata": {},
   "outputs": [
    {
     "name": "stdout",
     "output_type": "stream",
     "text": [
      "5\n"
     ]
    }
   ],
   "source": [
    "# This is a comment it does not execute\n",
    "## This is a comment it does not execute\n",
    "\n",
    "a = 2\n",
    "b = 3\n",
    "# adding a and b to get c\n",
    "c = a+b\n",
    "print (c)"
   ]
  },
  {
   "cell_type": "markdown",
   "id": "ea653d0b",
   "metadata": {},
   "source": [
    "Indentation - used with the if statement and ffg statement"
   ]
  },
  {
   "cell_type": "code",
   "execution_count": 2,
   "id": "76ec4d07",
   "metadata": {},
   "outputs": [
    {
     "name": "stdout",
     "output_type": "stream",
     "text": [
      "this is a buy\n"
     ]
    }
   ],
   "source": [
    "btc = 100000\n",
    "if btc > 95000:\n",
    "    print('this is a buy') "
   ]
  },
  {
   "cell_type": "markdown",
   "id": "2dc79910",
   "metadata": {},
   "source": [
    "Code Blocks - is a group of lines that python runs together"
   ]
  },
  {
   "cell_type": "code",
   "execution_count": 3,
   "id": "896d8794",
   "metadata": {},
   "outputs": [
    {
     "name": "stdout",
     "output_type": "stream",
     "text": [
      "1\n",
      "2\n",
      "3\n",
      "5\n",
      "4\n",
      "3\n",
      "2\n",
      "1\n"
     ]
    }
   ],
   "source": [
    "for i in range(1, 4):\n",
    "    print(i)\n",
    "\n",
    "number = 5\n",
    "while number > 0:\n",
    "    print(number)\n",
    "    number -=1 #decrease number by 1"
   ]
  },
  {
   "cell_type": "markdown",
   "id": "44e1386e",
   "metadata": {},
   "source": [
    "Python reserve word"
   ]
  },
  {
   "cell_type": "code",
   "execution_count": 4,
   "id": "765163f1",
   "metadata": {},
   "outputs": [
    {
     "ename": "SyntaxError",
     "evalue": "invalid syntax (1906299411.py, line 4)",
     "output_type": "error",
     "traceback": [
      "  \u001b[36mCell\u001b[39m\u001b[36m \u001b[39m\u001b[32mIn[4]\u001b[39m\u001b[32m, line 4\u001b[39m\n\u001b[31m    \u001b[39m\u001b[31mif\u001b[39m\n      ^\n\u001b[31mSyntaxError\u001b[39m\u001b[31m:\u001b[39m invalid syntax\n"
     ]
    }
   ],
   "source": [
    "# keywords\n",
    "# special words Python reserves\n",
    "\n",
    "if\n",
    "else\n",
    "elif\n",
    "for\n",
    "in\n",
    "\n",
    "# you can say cat = 230, but you cannot say if = 230\n",
    "# because if is a reserved word"
   ]
  },
  {
   "cell_type": "markdown",
   "id": "ca575575",
   "metadata": {},
   "source": [
    "Output - print is used to get output after writing a code"
   ]
  },
  {
   "cell_type": "code",
   "execution_count": null,
   "id": "43a4219a",
   "metadata": {},
   "outputs": [
    {
     "name": "stdout",
     "output_type": "stream",
     "text": [
      "20\n"
     ]
    }
   ],
   "source": [
    "a = 20\n",
    "print(a) # this prints a string to the console"
   ]
  },
  {
   "cell_type": "markdown",
   "id": "a785ddb4",
   "metadata": {},
   "source": [
    "### f - string\n",
    "An f-string (short for formatted sting literal) is a way to embed expressions inside strings literals in python. It was introduced in Python 3.6 and makes string formatting more readable and concise.\n",
    "Syntax: You write an f-string by prefixing the string with the letter f or F and the including the variables or expressions inside curly braces {}"
   ]
  },
  {
   "cell_type": "code",
   "execution_count": null,
   "id": "67cc525d",
   "metadata": {},
   "outputs": [
    {
     "name": "stdout",
     "output_type": "stream",
     "text": [
      "hello Alice\n"
     ]
    }
   ],
   "source": [
    "# output\n",
    "\n",
    "name = 'Alice'\n",
    "print(f'hello {name}')"
   ]
  },
  {
   "cell_type": "markdown",
   "id": "f5717a38",
   "metadata": {},
   "source": [
    "Input - makes our code dynamic"
   ]
  },
  {
   "cell_type": "code",
   "execution_count": null,
   "id": "4333a1a1",
   "metadata": {},
   "outputs": [
    {
     "name": "stdout",
     "output_type": "stream",
     "text": [
      "my favorite crypto asset is solana\n"
     ]
    }
   ],
   "source": [
    "# input - used to create a dynamic response\n",
    "crypto = input('enter your favorite crypto asset')\n",
    "print('my favorite crypto asset is ' + crypto)"
   ]
  },
  {
   "cell_type": "code",
   "execution_count": null,
   "id": "f49e9d8c",
   "metadata": {},
   "outputs": [
    {
     "name": "stdout",
     "output_type": "stream",
     "text": [
      "hello Victoria\n"
     ]
    }
   ],
   "source": [
    "name = input('enter your name')\n",
    "print('hello ' + name)"
   ]
  },
  {
   "cell_type": "code",
   "execution_count": null,
   "id": "c24720b6",
   "metadata": {},
   "outputs": [
    {
     "name": "stdout",
     "output_type": "stream",
     "text": [
      "25\n"
     ]
    }
   ],
   "source": [
    "age = int(input('enter your age'))\n",
    "print(age)"
   ]
  },
  {
   "cell_type": "code",
   "execution_count": null,
   "id": "c8c3567f",
   "metadata": {},
   "outputs": [
    {
     "name": "stdout",
     "output_type": "stream",
     "text": [
      "you are 26 years old\n"
     ]
    }
   ],
   "source": [
    "age = int(input('enter your age'))\n",
    "print(f'you are {age} years old')"
   ]
  },
  {
   "cell_type": "markdown",
   "id": "9175a385",
   "metadata": {},
   "source": [
    "### Variables\n",
    "A named container that stores data (like a labeled box)\n",
    "Example: score = 100 -> stores the number 100 in a variable named score\n",
    "\n",
    "#### Naming rules\n",
    "Start with a letter or _(not a number)\n",
    "\n",
    "Can contain letters, numbers, or _(no spaces or symbols) like n2me, sarah169\n",
    "\n",
    "Case-sensitive (Name ≠ name)\n",
    "\n",
    "Avoid Python keywords (e.g. don't name a variable print)\n",
    "\n",
    "#### Assignment (=):\n",
    "fruit = 'apple' -> puts 'apple' into the variable fruit\n",
    "\n",
    "Can update later: fruit = 'banana'\n",
    "\n",
    "example of variable - cat, age, name; it stores data"
   ]
  },
  {
   "cell_type": "code",
   "execution_count": null,
   "id": "b7f2c02f",
   "metadata": {},
   "outputs": [],
   "source": [
    "# Variables\n",
    "name = 'Victoria' # This is a string variable\n",
    "name = 'victoria' # This is a string variable, but with a different case, they are not the same\n",
    "age = 30 # This is an integer variable\n",
    "height = 5.7 # This is a float variable\n",
    "is_student = True # This is a boolean variable \n",
    "_is_valid = True # This is another boolean variable # this is also a valid variable name"
   ]
  },
  {
   "cell_type": "code",
   "execution_count": null,
   "id": "cd62d974",
   "metadata": {},
   "outputs": [],
   "source": [
    "# Assigments (=):\n",
    "x = 10 # This assigns the value 10 to the variable x\n",
    "y = 20 # This assigns the value 20 to the variable y\n",
    "z = x + y # This assigns the sum of x and y to the variable z\n",
    "\n",
    "# Multiple assignments:\n",
    "a, b, c = 1, 2, 3 # This assigns  1 to a, 2 to b and 3 to c"
   ]
  },
  {
   "cell_type": "markdown",
   "id": "d3b2b988",
   "metadata": {},
   "source": [
    "#### Updating variables"
   ]
  },
  {
   "cell_type": "code",
   "execution_count": null,
   "id": "25392d1d",
   "metadata": {},
   "outputs": [],
   "source": [
    "# update variables\n",
    "name = 'Alice'\n",
    "name = 'Bob' # This updates the value of name to Bob\n",
    "\n",
    "age = 30\n",
    "age = 25 # This updates the value of name to 25"
   ]
  },
  {
   "cell_type": "markdown",
   "id": "b58199ac",
   "metadata": {},
   "source": [
    "## Data Types\n",
    "### What is Data Type?\n",
    "A Python data type specifies the category of data a variable can store, determining its behaviour and allowed operations.\n",
    "\n",
    "### Common Types:\n"
   ]
  },
  {
   "cell_type": "markdown",
   "id": "422a43d7",
   "metadata": {},
   "source": [
    "Text Data Type"
   ]
  },
  {
   "cell_type": "code",
   "execution_count": null,
   "id": "b65030d6",
   "metadata": {},
   "outputs": [],
   "source": [
    "# Text data types\n",
    "# Also known as strings, are used to represent text\n",
    "\n",
    "place = 'New York' # This is a string variable\n",
    "city = 'Los angeles'  # This is another string variable"
   ]
  },
  {
   "cell_type": "markdown",
   "id": "c4c85643",
   "metadata": {},
   "source": [
    "Numeric Data Type\n",
    "\n",
    "There are two types of numeric date types\n",
    "\n",
    "Integer and Float"
   ]
  },
  {
   "cell_type": "code",
   "execution_count": null,
   "id": "4f4c8fc3",
   "metadata": {},
   "outputs": [],
   "source": [
    "# Numeric Data Types\n",
    "\n",
    "number = 10 # An integer variable (round numbers)\n",
    "height = 5.9 # A float variable (decimal numbers)"
   ]
  },
  {
   "cell_type": "markdown",
   "id": "1e8cf2b3",
   "metadata": {},
   "source": [
    "Boolean Data Types \n",
    "\n",
    "Is either true or false (either yes/no)"
   ]
  },
  {
   "cell_type": "code",
   "execution_count": null,
   "id": "eec9ba2b",
   "metadata": {},
   "outputs": [],
   "source": [
    "# Boolean Data Types\n",
    "\n",
    "is_valid = True # A boolean variable (True)\n",
    "invalid = False # A boolean variable (False)"
   ]
  },
  {
   "cell_type": "markdown",
   "id": "f3d96b15",
   "metadata": {},
   "source": [
    "Sequence Data Types\n",
    "\n",
    "It is more or less called Data structure\n",
    "\n",
    "list_example\n",
    "\n",
    "tuple_example \n",
    "\n",
    "dictionary_example\n",
    "\n",
    "set_example"
   ]
  },
  {
   "cell_type": "code",
   "execution_count": null,
   "id": "7e6c9254",
   "metadata": {},
   "outputs": [
    {
     "data": {
      "text/plain": [
       "['Bitcoin', 'Ethereum', 'Solana']"
      ]
     },
     "execution_count": 23,
     "metadata": {},
     "output_type": "execute_result"
    }
   ],
   "source": [
    "list_example = [1, 2, 3, 4, 5] # A list is an ordered collection of items\n",
    "\n",
    "cryptos = ['Bitcoin', 'Ethereum', 'Solana']\n",
    "cryptos"
   ]
  },
  {
   "cell_type": "code",
   "execution_count": null,
   "id": "c197fbbf",
   "metadata": {},
   "outputs": [
    {
     "name": "stdout",
     "output_type": "stream",
     "text": [
      "{1, 2, 3}\n"
     ]
    }
   ],
   "source": [
    "tuple_example = {1,2,3} # A tuple is an ordered collection of items, but it is immutable (cannot be changed)\n",
    "print(tuple_example)"
   ]
  },
  {
   "cell_type": "code",
   "execution_count": null,
   "id": "ffa66f1a",
   "metadata": {},
   "outputs": [
    {
     "name": "stdout",
     "output_type": "stream",
     "text": [
      "{'btc': 100000, 'eth': 2000}\n"
     ]
    }
   ],
   "source": [
    "dictionary_example = {'key1': 'value1','key2': 'value2'} # A dictionary is a collection of key-value pairs\n",
    "\n",
    "dict = {'btc': 100000, 'eth': 2000}\n",
    "print(dict)"
   ]
  },
  {
   "cell_type": "code",
   "execution_count": null,
   "id": "ede2197c",
   "metadata": {},
   "outputs": [],
   "source": [
    "set_example = {1, 2, 3} # A set of an unordered collection of unique items, there is no duplicates"
   ]
  },
  {
   "cell_type": "markdown",
   "id": "9268a465",
   "metadata": {},
   "source": [
    "### None Data Types"
   ]
  },
  {
   "cell_type": "code",
   "execution_count": null,
   "id": "8bd43e9a",
   "metadata": {},
   "outputs": [],
   "source": [
    "# None Data Types \n",
    "\n",
    "none_value = None #Represents the absence of a value or a null value"
   ]
  },
  {
   "cell_type": "markdown",
   "id": "60c08c7e",
   "metadata": {},
   "source": [
    "### Checking Data Type"
   ]
  },
  {
   "cell_type": "code",
   "execution_count": null,
   "id": "fa2af8f2",
   "metadata": {},
   "outputs": [],
   "source": [
    "# Checking Data Type\n",
    "\n",
    "name = 'Alice'\n",
    "print(type(name)) # This will print <class 'str'>, indicating that name is a string\n",
    "\n",
    "age = 30\n",
    "print(type(age)) # This will print <class 'int'>, indicating that name is a integer\n",
    "\n",
    "names = ['Alice', 'Bob', 'Charlie']\n",
    "print(type(names)) # This will print <class 'list'>, indicating that this is a list\n",
    "\n",
    "data = {'name': 'Bob', 'age': 30}\n",
    "print(type(data)) # This will print <class 'dict'>, indicating that this is a dict"
   ]
  },
  {
   "cell_type": "code",
   "execution_count": null,
   "id": "bdc37ba2",
   "metadata": {},
   "outputs": [
    {
     "name": "stdout",
     "output_type": "stream",
     "text": [
      "<class 'str'>\n"
     ]
    }
   ],
   "source": [
    "name = 'Alice'\n",
    "print(type(name)) "
   ]
  },
  {
   "cell_type": "code",
   "execution_count": null,
   "id": "07e16321",
   "metadata": {},
   "outputs": [
    {
     "name": "stdout",
     "output_type": "stream",
     "text": [
      "<class 'list'>\n"
     ]
    }
   ],
   "source": [
    "names = ['Alice', 'Bob', 'Charlie']\n",
    "print(type(names))"
   ]
  },
  {
   "cell_type": "code",
   "execution_count": null,
   "id": "2431c8bb",
   "metadata": {},
   "outputs": [
    {
     "name": "stdout",
     "output_type": "stream",
     "text": [
      "<class 'int'>\n"
     ]
    }
   ],
   "source": [
    "age = 30\n",
    "print(type(age))"
   ]
  },
  {
   "cell_type": "code",
   "execution_count": null,
   "id": "03dfad50",
   "metadata": {},
   "outputs": [
    {
     "name": "stdout",
     "output_type": "stream",
     "text": [
      "<class 'dict'>\n"
     ]
    }
   ],
   "source": [
    "data = {'name': 'Bob', 'age': 30}\n",
    "print(type(data))"
   ]
  },
  {
   "cell_type": "markdown",
   "id": "73865791",
   "metadata": {},
   "source": [
    "### Converting Data Types\n",
    "\n",
    "You can covert on data type to another data type, e.g. numbers stored as string"
   ]
  },
  {
   "cell_type": "code",
   "execution_count": null,
   "id": "4e0f91b0",
   "metadata": {},
   "outputs": [
    {
     "name": "stdout",
     "output_type": "stream",
     "text": [
      "30\n"
     ]
    }
   ],
   "source": [
    "# Converting Data Types\n",
    "\n",
    "age_str = '30'\n",
    "age = int(age_str) # Convert string to integer\n",
    "print (age) # Output = 30"
   ]
  },
  {
   "cell_type": "code",
   "execution_count": null,
   "id": "13961880",
   "metadata": {},
   "outputs": [
    {
     "name": "stdout",
     "output_type": "stream",
     "text": [
      "<class 'int'>\n"
     ]
    }
   ],
   "source": [
    "print(type(age))"
   ]
  },
  {
   "cell_type": "code",
   "execution_count": null,
   "id": "88039f4a",
   "metadata": {},
   "outputs": [
    {
     "name": "stdout",
     "output_type": "stream",
     "text": [
      "<class 'int'>\n"
     ]
    }
   ],
   "source": [
    "number = '100'\n",
    "number = int(number)\n",
    "print(type(number))"
   ]
  }
 ],
 "metadata": {
  "kernelspec": {
   "display_name": "pythonB",
   "language": "python",
   "name": "python3"
  },
  "language_info": {
   "codemirror_mode": {
    "name": "ipython",
    "version": 3
   },
   "file_extension": ".py",
   "mimetype": "text/x-python",
   "name": "python",
   "nbconvert_exporter": "python",
   "pygments_lexer": "ipython3",
   "version": "3.13.5"
  }
 },
 "nbformat": 4,
 "nbformat_minor": 5
}
