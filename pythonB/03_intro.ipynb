{
 "cells": [
  {
   "cell_type": "markdown",
   "id": "012bd71b",
   "metadata": {},
   "source": [
    "## 4. TUPLE (tuple)\n",
    "✅ Definition:\n",
    "A Tuple is an ordered, immutable collection."
   ]
  },
  {
   "cell_type": "code",
   "execution_count": null,
   "id": "2274e3e3",
   "metadata": {},
   "outputs": [],
   "source": [
    "block = ('BTC', 2025, 'halving', 'BTC')"
   ]
  },
  {
   "cell_type": "markdown",
   "id": "4636f6c6",
   "metadata": {},
   "source": [
    "### Common Methods in Tuple"
   ]
  },
  {
   "cell_type": "code",
   "execution_count": 5,
   "id": "e290f418",
   "metadata": {},
   "outputs": [
    {
     "data": {
      "text/plain": [
       "4"
      ]
     },
     "execution_count": 5,
     "metadata": {},
     "output_type": "execute_result"
    }
   ],
   "source": [
    "# len() --> length of the tuple, it takes in an object and returns it in integer form\n",
    "len(block)"
   ]
  },
  {
   "cell_type": "code",
   "execution_count": 6,
   "id": "7d5d8ad4",
   "metadata": {},
   "outputs": [
    {
     "data": {
      "text/plain": [
       "2"
      ]
     },
     "execution_count": 6,
     "metadata": {},
     "output_type": "execute_result"
    }
   ],
   "source": [
    "# .count(x) --> takes in one paramenter, it counts occurrences \n",
    "block.count('BTC')"
   ]
  },
  {
   "cell_type": "code",
   "execution_count": 7,
   "id": "595e85e8",
   "metadata": {},
   "outputs": [
    {
     "data": {
      "text/plain": [
       "0"
      ]
     },
     "execution_count": 7,
     "metadata": {},
     "output_type": "execute_result"
    }
   ],
   "source": [
    "# .index(x) --> gets index of element \n",
    "block.index('BTC')"
   ]
  },
  {
   "cell_type": "code",
   "execution_count": 8,
   "id": "f428791a",
   "metadata": {},
   "outputs": [
    {
     "data": {
      "text/plain": [
       "True"
      ]
     },
     "execution_count": 8,
     "metadata": {},
     "output_type": "execute_result"
    }
   ],
   "source": [
    "# in --> membership check\n",
    "'halving' in block"
   ]
  },
  {
   "cell_type": "markdown",
   "id": "3c377f63",
   "metadata": {},
   "source": [
    "## 5. SET (set)\n",
    "✅ Definition:\n",
    "A Set is an unordered, unindexed, mutable collection of unique elements.\n",
    "\n",
    "It takes no duplicate and cannot be indexed"
   ]
  },
  {
   "cell_type": "code",
   "execution_count": 25,
   "id": "9f90c8d1",
   "metadata": {},
   "outputs": [
    {
     "data": {
      "text/plain": [
       "{'0x123', '0xABC', '0xDEF'}"
      ]
     },
     "execution_count": 25,
     "metadata": {},
     "output_type": "execute_result"
    }
   ],
   "source": [
    "# the difference btw set and dict is that dict take key-value pairs\n",
    "wallet = {'0xABC', '0xDEF', '0x123'}\n",
    "wallet"
   ]
  },
  {
   "cell_type": "markdown",
   "id": "58a493e9",
   "metadata": {},
   "source": [
    "### Common Methods in Set"
   ]
  },
  {
   "cell_type": "code",
   "execution_count": 26,
   "id": "b770e0ed",
   "metadata": {},
   "outputs": [
    {
     "data": {
      "text/plain": [
       "{'0x123', '0xABC', '0xDEF', '0xGHD'}"
      ]
     },
     "execution_count": 26,
     "metadata": {},
     "output_type": "execute_result"
    }
   ],
   "source": [
    "# .add(x)--> adds an element to the set\n",
    "wallet.add('0xGHD')\n",
    "wallet"
   ]
  },
  {
   "cell_type": "code",
   "execution_count": null,
   "id": "0a0eab73",
   "metadata": {},
   "outputs": [
    {
     "data": {
      "text/plain": [
       "{'0xABC', '0xDEF', '0xGHD'}"
      ]
     },
     "execution_count": 27,
     "metadata": {},
     "output_type": "execute_result"
    }
   ],
   "source": [
    "# .remove(x) --> removes an element from the set (error if missing)\n",
    "wallet.remove('0x123')\n",
    "wallet"
   ]
  },
  {
   "cell_type": "code",
   "execution_count": 28,
   "id": "0aa45ce3",
   "metadata": {},
   "outputs": [
    {
     "data": {
      "text/plain": [
       "{'0xDEF', '0xGHD'}"
      ]
     },
     "execution_count": 28,
     "metadata": {},
     "output_type": "execute_result"
    }
   ],
   "source": [
    "# .discard(x) --> removes an element from the set (no error if missing)\n",
    "wallet.discard('0xABC')\n",
    "wallet"
   ]
  },
  {
   "cell_type": "code",
   "execution_count": 30,
   "id": "f83ed417",
   "metadata": {},
   "outputs": [
    {
     "data": {
      "text/plain": [
       "{'0xABC', '0xDEF', '0xHHG', '0xTGI', '0xYHS'}"
      ]
     },
     "execution_count": 30,
     "metadata": {},
     "output_type": "execute_result"
    }
   ],
   "source": [
    "# .union(other_set) --> returns a new set with elements from both sets\n",
    "wallet_a = {'0xABC','0xDEF', '0xTGI'}\n",
    "wallet_b = {'0xTGI', '0xYHS', '0xHHG'}\n",
    "wallet_a.union(wallet_b)"
   ]
  },
  {
   "cell_type": "code",
   "execution_count": 32,
   "id": "0d8e8caa",
   "metadata": {},
   "outputs": [
    {
     "data": {
      "text/plain": [
       "{'0xABC', '0xTGI'}"
      ]
     },
     "execution_count": 32,
     "metadata": {},
     "output_type": "execute_result"
    }
   ],
   "source": [
    "# .intersection(other_set) --> returns a new set with elements common to both sets\n",
    "wallet_a = {'0xABC','0xDEF', '0xTGI'}\n",
    "wallet_b = {'0xTGI', '0xABC', '0xHHG'}\n",
    "wallet_a.intersection(wallet_b)"
   ]
  },
  {
   "cell_type": "code",
   "execution_count": 1,
   "id": "d787e46f",
   "metadata": {},
   "outputs": [
    {
     "data": {
      "text/plain": [
       "True"
      ]
     },
     "execution_count": 1,
     "metadata": {},
     "output_type": "execute_result"
    }
   ],
   "source": [
    "# in \n",
    "wallet = {'is_active', 'is_verified', 'is_prenium'}\n",
    "'is_active' in wallet"
   ]
  },
  {
   "cell_type": "markdown",
   "id": "b52cbb4d",
   "metadata": {},
   "source": [
    "## 6. Nested Data Structures\n",
    "These are combinations of basic data structures. They’re very common in real-world data (like blockchain data, API responses, and JSON).\n",
    "\n",
    "A. List of Lists (2D List)\n",
    "\n",
    "B. List of Dictionaries\n",
    "\n",
    "C. Dictionary of Lists\n",
    "\n",
    "D. Nested Dictionary (Dict of Dict)\n",
    "\n",
    "E. Mix and Match Examples"
   ]
  },
  {
   "cell_type": "markdown",
   "id": "e790aa35",
   "metadata": {},
   "source": [
    "### A. List of Lists (2D List)\n",
    "Can be used in Tabular data - CSV, spreadsheet"
   ]
  },
  {
   "cell_type": "code",
   "execution_count": null,
   "id": "e56b987d",
   "metadata": {},
   "outputs": [
    {
     "name": "stdout",
     "output_type": "stream",
     "text": [
      "5\n"
     ]
    }
   ],
   "source": [
    "# List of Lists (you index it with rows [0,1,2] and columns [0,1,2]) -- rows before columns\n",
    "matrix = [\n",
    "    [1,2,3],\n",
    "    [4,5,6],\n",
    "    [7,8,9]\n",
    "]\n",
    "print(matrix[1][1])"
   ]
  },
  {
   "cell_type": "code",
   "execution_count": 36,
   "id": "e227cf53",
   "metadata": {},
   "outputs": [
    {
     "name": "stdout",
     "output_type": "stream",
     "text": [
      "7\n"
     ]
    }
   ],
   "source": [
    "print(matrix[2][0])"
   ]
  },
  {
   "cell_type": "code",
   "execution_count": 37,
   "id": "86b6fa8b",
   "metadata": {},
   "outputs": [
    {
     "name": "stdout",
     "output_type": "stream",
     "text": [
      "9\n"
     ]
    }
   ],
   "source": [
    "print(matrix[2][2])"
   ]
  },
  {
   "cell_type": "markdown",
   "id": "374c7fc0",
   "metadata": {},
   "source": [
    "### B. List of Dictionaries\n",
    "Two list in one dictionary"
   ]
  },
  {
   "cell_type": "code",
   "execution_count": null,
   "id": "74bab8ff",
   "metadata": {},
   "outputs": [
    {
     "name": "stdout",
     "output_type": "stream",
     "text": [
      "0xADF\n"
     ]
    }
   ],
   "source": [
    "users = [\n",
    "    {'name': 'Alice', 'wallet': '0xADF'}, # index 0\n",
    "    {'name': 'Bob', 'wallet': '0xJGH'} # index 1\n",
    "]\n",
    "\n",
    "print(users[0]['wallet']) # Alice's wallet"
   ]
  },
  {
   "cell_type": "code",
   "execution_count": 41,
   "id": "c80dbda0",
   "metadata": {},
   "outputs": [
    {
     "name": "stdout",
     "output_type": "stream",
     "text": [
      "Divine\n"
     ]
    }
   ],
   "source": [
    "users = [\n",
    "    {'name': 'Alice', 'wallet': '0xADF'},\n",
    "    {'name': 'Bob', 'wallet': '0xJGH'},\n",
    "    {'name': 'Rotimi', 'wallet': '0xKKH'},\n",
    "    {'name': 'Mario', 'wallet': '0xEwH'},\n",
    "    {'name': 'Divine', 'wallet': '0xHFH'},\n",
    "    {'name': 'Wale', 'wallet': '0xJxH'}\n",
    "]\n",
    "\n",
    "print(users[4]['name'])"
   ]
  },
  {
   "cell_type": "markdown",
   "id": "f3cd2b1b",
   "metadata": {},
   "source": [
    "### C. Dictionary of Lists"
   ]
  },
  {
   "cell_type": "code",
   "execution_count": null,
   "id": "385ba95d",
   "metadata": {},
   "outputs": [
    {
     "name": "stdout",
     "output_type": "stream",
     "text": [
      "BTC\n"
     ]
    }
   ],
   "source": [
    "wallets = {\n",
    "    '0xADC': ['ETH', 'BTC', 'SOL'], # you index with the key and the the index of the list (column)\n",
    "    '0xGRT': ['BTC', 'ADA', 'UNI']\n",
    "}\n",
    "print(wallets['0xADC'][1])"
   ]
  },
  {
   "cell_type": "code",
   "execution_count": 43,
   "id": "01585110",
   "metadata": {},
   "outputs": [
    {
     "name": "stdout",
     "output_type": "stream",
     "text": [
      "TIA\n"
     ]
    }
   ],
   "source": [
    "wallets = {\n",
    "    '0xADC': ['ETH', 'BTC', 'SOL'], \n",
    "    '0xGRT': ['BTC', 'ADA', 'UNI'],\n",
    "    '0xAED': ['ADA', 'BTC', 'SOL'],\n",
    "    '0xJGG': ['BTC', 'TIA', 'UNI'],\n",
    "    '0xKIT': ['ETH', 'BTC', 'CELE'],\n",
    "    '0xETU': ['ATOM', 'ADA', 'UNI']\n",
    "}\n",
    "print(wallets['0xJGG'][1])"
   ]
  },
  {
   "cell_type": "markdown",
   "id": "4365d27a",
   "metadata": {},
   "source": [
    "## D. Nested Dictionary (Dict of Dict)"
   ]
  },
  {
   "cell_type": "code",
   "execution_count": 46,
   "id": "cfa7da35",
   "metadata": {},
   "outputs": [
    {
     "name": "stdout",
     "output_type": "stream",
     "text": [
      "5.5\n"
     ]
    }
   ],
   "source": [
    "users_profile = {\n",
    "    '0xADF': {'name': 'Alice', 'balance': 5.5},\n",
    "    '0xDEF': {'name': 'Bob', 'balance': 3.2}\n",
    "}\n",
    "print(users_profile['0xADF'] ['balance'])"
   ]
  },
  {
   "cell_type": "code",
   "execution_count": 47,
   "id": "fe119961",
   "metadata": {},
   "outputs": [
    {
     "name": "stdout",
     "output_type": "stream",
     "text": [
      "3.2\n"
     ]
    }
   ],
   "source": [
    "print(users_profile['0xDEF'] ['balance'])"
   ]
  },
  {
   "cell_type": "markdown",
   "id": "6b54049d",
   "metadata": {},
   "source": [
    "### E. Mix and Match Examples"
   ]
  },
  {
   "cell_type": "code",
   "execution_count": 51,
   "id": "58a782ae",
   "metadata": {},
   "outputs": [
    {
     "name": "stdout",
     "output_type": "stream",
     "text": [
      "0xABC\n"
     ]
    }
   ],
   "source": [
    "transactions = [\n",
    "    {'tx_id': '0x1', 'from': '0xABC', 'to': '0xDEF', 'amount': 100},\n",
    "    {'tx_id': '0x2', 'from': '0xDEF', 'to': '0x123', 'amount': 200}\n",
    "]\n",
    "print(transactions[0]['from'])"
   ]
  }
 ],
 "metadata": {
  "kernelspec": {
   "display_name": "pythonB",
   "language": "python",
   "name": "python3"
  },
  "language_info": {
   "codemirror_mode": {
    "name": "ipython",
    "version": 3
   },
   "file_extension": ".py",
   "mimetype": "text/x-python",
   "name": "python",
   "nbconvert_exporter": "python",
   "pygments_lexer": "ipython3",
   "version": "3.13.5"
  }
 },
 "nbformat": 4,
 "nbformat_minor": 5
}
